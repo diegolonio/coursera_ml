{
 "cells": [
  {
   "cell_type": "code",
   "execution_count": 1,
   "id": "c2184f10-4149-4a22-98ef-249b03dbce35",
   "metadata": {},
   "outputs": [],
   "source": [
    "import numpy as np\n",
    "import matplotlib.pyplot as plt\n",
    "import csv"
   ]
  },
  {
   "cell_type": "markdown",
   "id": "10ed3236-32f5-4cfb-90da-c015dcef7d00",
   "metadata": {},
   "source": [
    "En este ejercicio se hace un regresión lineal univariable. El primer paso será importar los datos con los que vamos a trabajar."
   ]
  },
  {
   "cell_type": "code",
   "execution_count": 32,
   "id": "0118db8a-c685-439c-8e3b-dd0e72129fa6",
   "metadata": {},
   "outputs": [
    {
     "name": "stdout",
     "output_type": "stream",
     "text": [
      "[ 1.1  1.3  1.5  2.   2.2  2.9  3.   3.2  3.2  3.7  3.9  4.   4.   4.1\n",
      "  4.5  4.9  5.1  5.3  5.9  6.   6.8  7.1  7.9  8.2  8.7  9.   9.5  9.6\n",
      " 10.3 10.5 11.2 11.5 12.3 12.9 13.5]\n",
      "[ 39343.  46205.  37731.  43525.  39891.  56642.  60150.  54445.  64445.\n",
      "  57189.  63218.  55794.  56957.  57081.  61111.  67938.  66029.  83088.\n",
      "  81363.  93940.  91738.  98273. 101302. 113812. 109431. 105582. 116969.\n",
      " 112635. 122391. 121872. 127345. 126756. 128765. 135675. 139465.]\n"
     ]
    }
   ],
   "source": [
    "def import_data(filename):\n",
    "    try:\n",
    "        with open(filename, 'r') as file:\n",
    "            reader = csv.reader(file)\n",
    "            next(reader) # Jump first row\n",
    "            data = [[float(row[0]), float(row[1])] for row in reader]\n",
    "            data = np.array(data)\n",
    "        return data\n",
    "    except FileNotFoundError:\n",
    "        print(f\"Error: El archivo '{filename}' no fue encontrado.\")\n",
    "        return None\n",
    "    except Exception as e:\n",
    "        print(f\"Ocurrió un error al leer el archivo: {e}\")\n",
    "        return None\n",
    "\n",
    "data = import_data(\"salary_data.csv\")\n",
    "\n",
    "if data is None:\n",
    "    print(\"Error crítico: No se pudieron cargar los datos necesarios para continuar. Terminando el programa.\")\n",
    "    exit()\n",
    "\n",
    "x_train = data[:,0]\n",
    "y_train = data[:,1]\n",
    "\n",
    "print(x_train)\n",
    "print(y_train)"
   ]
  },
  {
   "cell_type": "markdown",
   "id": "d1ecaf0d-e59b-4a62-b956-863be399411e",
   "metadata": {},
   "source": [
    "Luego, debemos de implementar la función $f_{w, b}(x^{(i)}) = wx^{(i)}+b$ en código:"
   ]
  },
  {
   "cell_type": "code",
   "execution_count": 27,
   "id": "2995ccaf-8a43-41d1-b816-e91fb8ebd401",
   "metadata": {},
   "outputs": [],
   "source": [
    "def compute_model_output(x, w, b):\n",
    "    m = x.shape[0]\n",
    "    f_wb = np.zeros(m)\n",
    "\n",
    "    for i in range(m):\n",
    "        f_wb[i] = w * x[i] + b\n",
    "\n",
    "    return f_wb"
   ]
  },
  {
   "cell_type": "markdown",
   "id": "c0b3882c-cb72-4bb4-a058-c791fd042b8f",
   "metadata": {},
   "source": [
    "La función de costo $J(w,b) = \\frac{1}{2m}\\sum\\limits_{i=1}^{m}{(f_{w,b}(x^{(i)})-y^{(i)})^2}$ se implementa como sigue:"
   ]
  },
  {
   "cell_type": "code",
   "execution_count": 28,
   "id": "f5ca3a53-bace-46b4-9b3a-2aa35d454ddf",
   "metadata": {},
   "outputs": [],
   "source": [
    "def compute_cost(x, y, w, b):\n",
    "    m = x.shape[0]\n",
    "    cost = 0.0\n",
    "\n",
    "    for i in range(m):\n",
    "        f_wb = w * x[i] + b\n",
    "        cost = cost + (f_wb - y[i]) ** 2\n",
    "    total_cost = 1 / (2 * m) * cost\n",
    "\n",
    "    return total_cost"
   ]
  },
  {
   "cell_type": "markdown",
   "id": "4bf53cbf-a67a-4f93-a64d-d24f0b06a03a",
   "metadata": {},
   "source": [
    "Ahora implementamos la función que nos permitirá calcular lñas derivadas parciales de la función de costo:\n",
    "\n",
    "$$\n",
    "\\begin{align}\n",
    "\\frac{\\partial J(w,b)}{\\partial w} &= \\frac{1}{m}\\sum\\limits_{i=0}^{m}{(f_{w, b}(x^{(i)})-y^{(i)})x^{(i)}} \\\\\n",
    "\\frac{\\partial J(w,b)}{\\partial b} &= \\frac{1}{m}\\sum\\limits_{i=0}^{m}{(f_{w, b}(x^{(i)})-y^{(i)})} \\\\\n",
    "\\end{align}\n",
    "$$"
   ]
  },
  {
   "cell_type": "code",
   "execution_count": 33,
   "id": "97910635-aa78-4e0c-866d-20c1ebb573fb",
   "metadata": {},
   "outputs": [],
   "source": [
    "def compute_gradient(x, y, w, b):\n",
    "    m = x.shape[0]\n",
    "    dj_dw = 0.0\n",
    "    dj_db = 0.0\n",
    "\n",
    "    for i in range(m):\n",
    "        f_wb = w * x[i] + b\n",
    "        dj_dw_i = (f_wb - y[i]) * x[i]\n",
    "        dj_db_i = f_wb - y[i]\n",
    "        dj_dw += dj_dw_i\n",
    "        dj_db += dj_db_i\n",
    "\n",
    "    dj_dw = dj_dw / m\n",
    "    dj_db = dj_db / m\n",
    "\n",
    "    return dj_dw, dj_db"
   ]
  },
  {
   "cell_type": "markdown",
   "id": "ae1c1871-ba89-42f2-9a4b-8ce21ecdc86e",
   "metadata": {},
   "source": [
    "El algoritmo del descenso del gradiente dicta que debemos iterar las siguientes ecuaciones hasta que los valores de $w$ y $b$ no tengan cambios significativos:\n",
    "\n",
    "$$\n",
    "\\begin{align*}\n",
    "\\text{repeat}&\\text{ until convergence:} \\; \\lbrace \\newline\n",
    "\\;  w &= w -  \\alpha \\frac{\\partial J(w,b)}{\\partial w} \\; \\newline \n",
    " b &= b -  \\alpha \\frac{\\partial J(w,b)}{\\partial b}  \\newline \\rbrace\n",
    "\\end{align*}\n",
    "$$"
   ]
  },
  {
   "cell_type": "code",
   "execution_count": 34,
   "id": "d458a753-5a77-4c0b-9c5c-454222899363",
   "metadata": {},
   "outputs": [],
   "source": [
    "def gradient_descent(x, y, w_in, b_in, alpha, num_iters, gradient_function):\n",
    "    w = w_in\n",
    "    b = b_in\n",
    "\n",
    "    for _ in range(num_iters):\n",
    "        dj_dw, dj_db = gradient_function(x, y, w, b)\n",
    "        w = w - alpha * dj_dw\n",
    "        b = b - alpha * dj_db\n",
    "\n",
    "    return w, b"
   ]
  },
  {
   "cell_type": "code",
   "execution_count": 35,
   "id": "436122c7-f425-44e8-9566-2c341dc381b1",
   "metadata": {},
   "outputs": [
    {
     "name": "stdout",
     "output_type": "stream",
     "text": [
      "w, b: 8731.94104720006, 28859.52619339145\n"
     ]
    },
    {
     "data": {
      "image/png": "[encoded data removed]",
      "text/plain": [
       "<Figure size 640x480 with 1 Axes>"
      ]
     },
     "metadata": {},
     "output_type": "display_data"
    }
   ],
   "source": [
    "w_init = 0.0\n",
    "b_init = 0.0\n",
    "alpha = 0.01\n",
    "num_iters = 10000\n",
    "\n",
    "w_final, b_final = gradient_descent(x_train, y_train, w_init, b_init, alpha, num_iters, compute_gradient)\n",
    "f_wb = compute_model_output(x_train, w_final, b_final)\n",
    "\n",
    "print(f\"w, b: {w_final}, {b_final}\")\n",
    "\n",
    "plt.scatter(x_train, y_train, c=\"red\", label=\"Datos de entrenamiento\", alpha=0.3)\n",
    "plt.plot(x_train, f_wb, c=\"blue\", label=\"Modelo\", linewidth=2.5)\n",
    "\n",
    "plt.title(\"Regresión Lineal\")\n",
    "plt.ylabel(\"Y\")\n",
    "plt.xlabel(\"X\")\n",
    "plt.legend()\n",
    "plt.grid(True)\n",
    "plt.show()"
   ]
  }
 ],
 "metadata": {
  "kernelspec": {
   "display_name": "Python 3 (ipykernel)",
   "language": "python",
   "name": "python3"
  },
  "language_info": {
   "codemirror_mode": {
    "name": "ipython",
    "version": 3
   },
   "file_extension": ".py",
   "mimetype": "text/x-python",
   "name": "python",
   "nbconvert_exporter": "python",
   "pygments_lexer": "ipython3",
   "version": "3.12.10"
  }
 },
 "nbformat": 4,
 "nbformat_minor": 5
}
